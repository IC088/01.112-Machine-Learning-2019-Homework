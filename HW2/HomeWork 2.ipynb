{
 "cells": [
  {
   "cell_type": "markdown",
   "metadata": {},
   "source": [
    "# Question 1"
   ]
  },
  {
   "cell_type": "markdown",
   "metadata": {},
   "source": [
    "Importing the necessary packages"
   ]
  },
  {
   "cell_type": "code",
   "execution_count": 1,
   "metadata": {},
   "outputs": [],
   "source": [
    "import pandas as pd\n",
    "import numpy as np\n",
    "import matplotlib.pyplot as plt\n",
    "from scipy.spatial import distance\n",
    "import copy"
   ]
  },
  {
   "cell_type": "markdown",
   "metadata": {},
   "source": [
    "## Visualising the Image Data"
   ]
  },
  {
   "cell_type": "code",
   "execution_count": 2,
   "metadata": {},
   "outputs": [
    {
     "data": {
      "text/html": [
       "<div>\n",
       "<style scoped>\n",
       "    .dataframe tbody tr th:only-of-type {\n",
       "        vertical-align: middle;\n",
       "    }\n",
       "\n",
       "    .dataframe tbody tr th {\n",
       "        vertical-align: top;\n",
       "    }\n",
       "\n",
       "    .dataframe thead th {\n",
       "        text-align: right;\n",
       "    }\n",
       "</style>\n",
       "<table border=\"1\" class=\"dataframe\">\n",
       "  <thead>\n",
       "    <tr style=\"text-align: right;\">\n",
       "      <th></th>\n",
       "      <th>0</th>\n",
       "      <th>1</th>\n",
       "      <th>2</th>\n",
       "    </tr>\n",
       "  </thead>\n",
       "  <tbody>\n",
       "    <tr>\n",
       "      <th>0</th>\n",
       "      <td>129</td>\n",
       "      <td>108</td>\n",
       "      <td>61</td>\n",
       "    </tr>\n",
       "    <tr>\n",
       "      <th>1</th>\n",
       "      <td>117</td>\n",
       "      <td>96</td>\n",
       "      <td>51</td>\n",
       "    </tr>\n",
       "    <tr>\n",
       "      <th>2</th>\n",
       "      <td>102</td>\n",
       "      <td>77</td>\n",
       "      <td>36</td>\n",
       "    </tr>\n",
       "    <tr>\n",
       "      <th>3</th>\n",
       "      <td>94</td>\n",
       "      <td>64</td>\n",
       "      <td>26</td>\n",
       "    </tr>\n",
       "    <tr>\n",
       "      <th>4</th>\n",
       "      <td>97</td>\n",
       "      <td>59</td>\n",
       "      <td>22</td>\n",
       "    </tr>\n",
       "    <tr>\n",
       "      <th>5</th>\n",
       "      <td>107</td>\n",
       "      <td>59</td>\n",
       "      <td>23</td>\n",
       "    </tr>\n",
       "    <tr>\n",
       "      <th>6</th>\n",
       "      <td>115</td>\n",
       "      <td>59</td>\n",
       "      <td>22</td>\n",
       "    </tr>\n",
       "    <tr>\n",
       "      <th>7</th>\n",
       "      <td>119</td>\n",
       "      <td>59</td>\n",
       "      <td>22</td>\n",
       "    </tr>\n",
       "    <tr>\n",
       "      <th>8</th>\n",
       "      <td>119</td>\n",
       "      <td>60</td>\n",
       "      <td>18</td>\n",
       "    </tr>\n",
       "    <tr>\n",
       "      <th>9</th>\n",
       "      <td>119</td>\n",
       "      <td>60</td>\n",
       "      <td>18</td>\n",
       "    </tr>\n",
       "    <tr>\n",
       "      <th>10</th>\n",
       "      <td>119</td>\n",
       "      <td>60</td>\n",
       "      <td>18</td>\n",
       "    </tr>\n",
       "    <tr>\n",
       "      <th>11</th>\n",
       "      <td>118</td>\n",
       "      <td>59</td>\n",
       "      <td>17</td>\n",
       "    </tr>\n",
       "    <tr>\n",
       "      <th>12</th>\n",
       "      <td>118</td>\n",
       "      <td>59</td>\n",
       "      <td>17</td>\n",
       "    </tr>\n",
       "    <tr>\n",
       "      <th>13</th>\n",
       "      <td>118</td>\n",
       "      <td>59</td>\n",
       "      <td>17</td>\n",
       "    </tr>\n",
       "    <tr>\n",
       "      <th>14</th>\n",
       "      <td>118</td>\n",
       "      <td>59</td>\n",
       "      <td>17</td>\n",
       "    </tr>\n",
       "    <tr>\n",
       "      <th>15</th>\n",
       "      <td>118</td>\n",
       "      <td>59</td>\n",
       "      <td>17</td>\n",
       "    </tr>\n",
       "    <tr>\n",
       "      <th>16</th>\n",
       "      <td>117</td>\n",
       "      <td>59</td>\n",
       "      <td>19</td>\n",
       "    </tr>\n",
       "    <tr>\n",
       "      <th>17</th>\n",
       "      <td>116</td>\n",
       "      <td>58</td>\n",
       "      <td>18</td>\n",
       "    </tr>\n",
       "    <tr>\n",
       "      <th>18</th>\n",
       "      <td>116</td>\n",
       "      <td>58</td>\n",
       "      <td>18</td>\n",
       "    </tr>\n",
       "    <tr>\n",
       "      <th>19</th>\n",
       "      <td>116</td>\n",
       "      <td>58</td>\n",
       "      <td>18</td>\n",
       "    </tr>\n",
       "    <tr>\n",
       "      <th>20</th>\n",
       "      <td>116</td>\n",
       "      <td>58</td>\n",
       "      <td>18</td>\n",
       "    </tr>\n",
       "    <tr>\n",
       "      <th>21</th>\n",
       "      <td>115</td>\n",
       "      <td>57</td>\n",
       "      <td>17</td>\n",
       "    </tr>\n",
       "    <tr>\n",
       "      <th>22</th>\n",
       "      <td>115</td>\n",
       "      <td>57</td>\n",
       "      <td>17</td>\n",
       "    </tr>\n",
       "    <tr>\n",
       "      <th>23</th>\n",
       "      <td>115</td>\n",
       "      <td>57</td>\n",
       "      <td>17</td>\n",
       "    </tr>\n",
       "    <tr>\n",
       "      <th>24</th>\n",
       "      <td>113</td>\n",
       "      <td>55</td>\n",
       "      <td>17</td>\n",
       "    </tr>\n",
       "    <tr>\n",
       "      <th>25</th>\n",
       "      <td>114</td>\n",
       "      <td>56</td>\n",
       "      <td>18</td>\n",
       "    </tr>\n",
       "    <tr>\n",
       "      <th>26</th>\n",
       "      <td>114</td>\n",
       "      <td>56</td>\n",
       "      <td>18</td>\n",
       "    </tr>\n",
       "    <tr>\n",
       "      <th>27</th>\n",
       "      <td>115</td>\n",
       "      <td>57</td>\n",
       "      <td>19</td>\n",
       "    </tr>\n",
       "    <tr>\n",
       "      <th>28</th>\n",
       "      <td>115</td>\n",
       "      <td>57</td>\n",
       "      <td>19</td>\n",
       "    </tr>\n",
       "    <tr>\n",
       "      <th>29</th>\n",
       "      <td>114</td>\n",
       "      <td>56</td>\n",
       "      <td>18</td>\n",
       "    </tr>\n",
       "    <tr>\n",
       "      <th>...</th>\n",
       "      <td>...</td>\n",
       "      <td>...</td>\n",
       "      <td>...</td>\n",
       "    </tr>\n",
       "    <tr>\n",
       "      <th>209982</th>\n",
       "      <td>8</td>\n",
       "      <td>9</td>\n",
       "      <td>11</td>\n",
       "    </tr>\n",
       "    <tr>\n",
       "      <th>209983</th>\n",
       "      <td>2</td>\n",
       "      <td>8</td>\n",
       "      <td>8</td>\n",
       "    </tr>\n",
       "    <tr>\n",
       "      <th>209984</th>\n",
       "      <td>4</td>\n",
       "      <td>13</td>\n",
       "      <td>12</td>\n",
       "    </tr>\n",
       "    <tr>\n",
       "      <th>209985</th>\n",
       "      <td>6</td>\n",
       "      <td>12</td>\n",
       "      <td>10</td>\n",
       "    </tr>\n",
       "    <tr>\n",
       "      <th>209986</th>\n",
       "      <td>6</td>\n",
       "      <td>7</td>\n",
       "      <td>2</td>\n",
       "    </tr>\n",
       "    <tr>\n",
       "      <th>209987</th>\n",
       "      <td>11</td>\n",
       "      <td>6</td>\n",
       "      <td>0</td>\n",
       "    </tr>\n",
       "    <tr>\n",
       "      <th>209988</th>\n",
       "      <td>20</td>\n",
       "      <td>9</td>\n",
       "      <td>3</td>\n",
       "    </tr>\n",
       "    <tr>\n",
       "      <th>209989</th>\n",
       "      <td>78</td>\n",
       "      <td>34</td>\n",
       "      <td>5</td>\n",
       "    </tr>\n",
       "    <tr>\n",
       "      <th>209990</th>\n",
       "      <td>98</td>\n",
       "      <td>46</td>\n",
       "      <td>9</td>\n",
       "    </tr>\n",
       "    <tr>\n",
       "      <th>209991</th>\n",
       "      <td>105</td>\n",
       "      <td>43</td>\n",
       "      <td>2</td>\n",
       "    </tr>\n",
       "    <tr>\n",
       "      <th>209992</th>\n",
       "      <td>98</td>\n",
       "      <td>36</td>\n",
       "      <td>0</td>\n",
       "    </tr>\n",
       "    <tr>\n",
       "      <th>209993</th>\n",
       "      <td>96</td>\n",
       "      <td>40</td>\n",
       "      <td>5</td>\n",
       "    </tr>\n",
       "    <tr>\n",
       "      <th>209994</th>\n",
       "      <td>96</td>\n",
       "      <td>43</td>\n",
       "      <td>11</td>\n",
       "    </tr>\n",
       "    <tr>\n",
       "      <th>209995</th>\n",
       "      <td>96</td>\n",
       "      <td>40</td>\n",
       "      <td>5</td>\n",
       "    </tr>\n",
       "    <tr>\n",
       "      <th>209996</th>\n",
       "      <td>103</td>\n",
       "      <td>41</td>\n",
       "      <td>4</td>\n",
       "    </tr>\n",
       "    <tr>\n",
       "      <th>209997</th>\n",
       "      <td>98</td>\n",
       "      <td>38</td>\n",
       "      <td>1</td>\n",
       "    </tr>\n",
       "    <tr>\n",
       "      <th>209998</th>\n",
       "      <td>98</td>\n",
       "      <td>38</td>\n",
       "      <td>1</td>\n",
       "    </tr>\n",
       "    <tr>\n",
       "      <th>209999</th>\n",
       "      <td>97</td>\n",
       "      <td>39</td>\n",
       "      <td>1</td>\n",
       "    </tr>\n",
       "    <tr>\n",
       "      <th>210000</th>\n",
       "      <td>97</td>\n",
       "      <td>39</td>\n",
       "      <td>2</td>\n",
       "    </tr>\n",
       "    <tr>\n",
       "      <th>210001</th>\n",
       "      <td>95</td>\n",
       "      <td>39</td>\n",
       "      <td>2</td>\n",
       "    </tr>\n",
       "    <tr>\n",
       "      <th>210002</th>\n",
       "      <td>94</td>\n",
       "      <td>38</td>\n",
       "      <td>3</td>\n",
       "    </tr>\n",
       "    <tr>\n",
       "      <th>210003</th>\n",
       "      <td>93</td>\n",
       "      <td>39</td>\n",
       "      <td>3</td>\n",
       "    </tr>\n",
       "    <tr>\n",
       "      <th>210004</th>\n",
       "      <td>93</td>\n",
       "      <td>39</td>\n",
       "      <td>3</td>\n",
       "    </tr>\n",
       "    <tr>\n",
       "      <th>210005</th>\n",
       "      <td>94</td>\n",
       "      <td>41</td>\n",
       "      <td>7</td>\n",
       "    </tr>\n",
       "    <tr>\n",
       "      <th>210006</th>\n",
       "      <td>92</td>\n",
       "      <td>39</td>\n",
       "      <td>5</td>\n",
       "    </tr>\n",
       "    <tr>\n",
       "      <th>210007</th>\n",
       "      <td>91</td>\n",
       "      <td>38</td>\n",
       "      <td>4</td>\n",
       "    </tr>\n",
       "    <tr>\n",
       "      <th>210008</th>\n",
       "      <td>88</td>\n",
       "      <td>39</td>\n",
       "      <td>6</td>\n",
       "    </tr>\n",
       "    <tr>\n",
       "      <th>210009</th>\n",
       "      <td>81</td>\n",
       "      <td>36</td>\n",
       "      <td>7</td>\n",
       "    </tr>\n",
       "    <tr>\n",
       "      <th>210010</th>\n",
       "      <td>71</td>\n",
       "      <td>31</td>\n",
       "      <td>6</td>\n",
       "    </tr>\n",
       "    <tr>\n",
       "      <th>210011</th>\n",
       "      <td>66</td>\n",
       "      <td>31</td>\n",
       "      <td>11</td>\n",
       "    </tr>\n",
       "  </tbody>\n",
       "</table>\n",
       "<p>210012 rows × 3 columns</p>\n",
       "</div>"
      ],
      "text/plain": [
       "          0    1   2\n",
       "0       129  108  61\n",
       "1       117   96  51\n",
       "2       102   77  36\n",
       "3        94   64  26\n",
       "4        97   59  22\n",
       "5       107   59  23\n",
       "6       115   59  22\n",
       "7       119   59  22\n",
       "8       119   60  18\n",
       "9       119   60  18\n",
       "10      119   60  18\n",
       "11      118   59  17\n",
       "12      118   59  17\n",
       "13      118   59  17\n",
       "14      118   59  17\n",
       "15      118   59  17\n",
       "16      117   59  19\n",
       "17      116   58  18\n",
       "18      116   58  18\n",
       "19      116   58  18\n",
       "20      116   58  18\n",
       "21      115   57  17\n",
       "22      115   57  17\n",
       "23      115   57  17\n",
       "24      113   55  17\n",
       "25      114   56  18\n",
       "26      114   56  18\n",
       "27      115   57  19\n",
       "28      115   57  19\n",
       "29      114   56  18\n",
       "...     ...  ...  ..\n",
       "209982    8    9  11\n",
       "209983    2    8   8\n",
       "209984    4   13  12\n",
       "209985    6   12  10\n",
       "209986    6    7   2\n",
       "209987   11    6   0\n",
       "209988   20    9   3\n",
       "209989   78   34   5\n",
       "209990   98   46   9\n",
       "209991  105   43   2\n",
       "209992   98   36   0\n",
       "209993   96   40   5\n",
       "209994   96   43  11\n",
       "209995   96   40   5\n",
       "209996  103   41   4\n",
       "209997   98   38   1\n",
       "209998   98   38   1\n",
       "209999   97   39   1\n",
       "210000   97   39   2\n",
       "210001   95   39   2\n",
       "210002   94   38   3\n",
       "210003   93   39   3\n",
       "210004   93   39   3\n",
       "210005   94   41   7\n",
       "210006   92   39   5\n",
       "210007   91   38   4\n",
       "210008   88   39   6\n",
       "210009   81   36   7\n",
       "210010   71   31   6\n",
       "210011   66   31  11\n",
       "\n",
       "[210012 rows x 3 columns]"
      ]
     },
     "execution_count": 2,
     "metadata": {},
     "output_type": "execute_result"
    }
   ],
   "source": [
    "data = pd.read_csv('hw2-image.txt', sep=\" \", header=None)\n",
    "data"
   ]
  },
  {
   "cell_type": "code",
   "execution_count": 3,
   "metadata": {},
   "outputs": [],
   "source": [
    "x = np.array(data, dtype='float64')"
   ]
  },
  {
   "cell_type": "markdown",
   "metadata": {},
   "source": [
    "## K-Means Algorithm"
   ]
  },
  {
   "cell_type": "markdown",
   "metadata": {},
   "source": [
    "1.  Initialize centroids   z(1), . . . , z(k)\n",
    "\n",
    "\n",
    "2.  Repeat until there is no further change in cost\n",
    "    \n",
    "    \n",
    "    (a)  For each j= 1, . . . , k:Cj={is.t.x(i)is closest toz(j)}\n",
    "    (b)  For eachj= 1, . . . , k:z(j)=1|Cj|∑i∈Cjx(i)(cluster mean)"
   ]
  },
  {
   "cell_type": "markdown",
   "metadata": {},
   "source": [
    "## Initialise the centroids as given in the Question"
   ]
  },
  {
   "cell_type": "code",
   "execution_count": 4,
   "metadata": {},
   "outputs": [
    {
     "data": {
      "text/html": [
       "<div>\n",
       "<style scoped>\n",
       "    .dataframe tbody tr th:only-of-type {\n",
       "        vertical-align: middle;\n",
       "    }\n",
       "\n",
       "    .dataframe tbody tr th {\n",
       "        vertical-align: top;\n",
       "    }\n",
       "\n",
       "    .dataframe thead th {\n",
       "        text-align: right;\n",
       "    }\n",
       "</style>\n",
       "<table border=\"1\" class=\"dataframe\">\n",
       "  <thead>\n",
       "    <tr style=\"text-align: right;\">\n",
       "      <th></th>\n",
       "      <th>0</th>\n",
       "      <th>1</th>\n",
       "      <th>2</th>\n",
       "    </tr>\n",
       "  </thead>\n",
       "  <tbody>\n",
       "    <tr>\n",
       "      <th>0</th>\n",
       "      <td>255.0</td>\n",
       "      <td>255.0</td>\n",
       "      <td>255.0</td>\n",
       "    </tr>\n",
       "    <tr>\n",
       "      <th>1</th>\n",
       "      <td>255.0</td>\n",
       "      <td>0.0</td>\n",
       "      <td>0.0</td>\n",
       "    </tr>\n",
       "    <tr>\n",
       "      <th>2</th>\n",
       "      <td>128.0</td>\n",
       "      <td>0.0</td>\n",
       "      <td>0.0</td>\n",
       "    </tr>\n",
       "    <tr>\n",
       "      <th>3</th>\n",
       "      <td>0.0</td>\n",
       "      <td>255.0</td>\n",
       "      <td>0.0</td>\n",
       "    </tr>\n",
       "    <tr>\n",
       "      <th>4</th>\n",
       "      <td>0.0</td>\n",
       "      <td>128.0</td>\n",
       "      <td>0.0</td>\n",
       "    </tr>\n",
       "    <tr>\n",
       "      <th>5</th>\n",
       "      <td>0.0</td>\n",
       "      <td>0.0</td>\n",
       "      <td>255.0</td>\n",
       "    </tr>\n",
       "    <tr>\n",
       "      <th>6</th>\n",
       "      <td>0.0</td>\n",
       "      <td>0.0</td>\n",
       "      <td>128.0</td>\n",
       "    </tr>\n",
       "    <tr>\n",
       "      <th>7</th>\n",
       "      <td>0.0</td>\n",
       "      <td>0.0</td>\n",
       "      <td>0.0</td>\n",
       "    </tr>\n",
       "  </tbody>\n",
       "</table>\n",
       "</div>"
      ],
      "text/plain": [
       "       0      1      2\n",
       "0  255.0  255.0  255.0\n",
       "1  255.0    0.0    0.0\n",
       "2  128.0    0.0    0.0\n",
       "3    0.0  255.0    0.0\n",
       "4    0.0  128.0    0.0\n",
       "5    0.0    0.0  255.0\n",
       "6    0.0    0.0  128.0\n",
       "7    0.0    0.0    0.0"
      ]
     },
     "execution_count": 4,
     "metadata": {},
     "output_type": "execute_result"
    }
   ],
   "source": [
    "initial_centroids = [[255,255, 255],[255,0,0],[128,0,0],[0,255,0],[0,128,0],[0,0,255],[0,0,128],[0,0,0]]\n",
    "initial_centroids = np.array(initial_centroids, dtype='float64')\n",
    "pd.DataFrame(initial_centroids)"
   ]
  },
  {
   "cell_type": "markdown",
   "metadata": {},
   "source": [
    "## Function for Eucledian Distance"
   ]
  },
  {
   "cell_type": "code",
   "execution_count": 5,
   "metadata": {},
   "outputs": [],
   "source": [
    "def dist(a, b, ax=1):\n",
    "    return np.linalg.norm(a - b, axis=ax)"
   ]
  },
  {
   "cell_type": "markdown",
   "metadata": {},
   "source": [
    "## Finding the Cluster (Not the Most Efficient and Effective but it works)"
   ]
  },
  {
   "cell_type": "code",
   "execution_count": 6,
   "metadata": {},
   "outputs": [],
   "source": [
    "def getCluster(x, z):\n",
    "    distance, cluster, result, new_centroid, nresult = [], [], {new_list: [] for new_list in range(len(z))} , {new_list: [] for new_list in range(len(z))}, []\n",
    "    data_points = np.array(x,dtype='float64')\n",
    "    z = np.array(z, dtype='float64')\n",
    "    for i in data_points:\n",
    "        distance.append(dist(i,z)) #distance for each data point to cluster centroids stored in array ([d_tocluster1, d_tocluster2,...])\n",
    "    distance = np.array(distance,dtype='float64')\n",
    "    for j in distance:\n",
    "        mini = np.min(j)\n",
    "        index = np.where(j==mini)\n",
    "        cluster.append([index[0][0],mini])\n",
    "        \n",
    "    for i in range(len(cluster)):\n",
    "        cluster_grp = cluster[i][0]\n",
    "        nresult.append([cluster[i][0],data_points[i]])\n",
    "        result[cluster_grp].append(data_points[i])\n",
    "    for i in result:\n",
    "        result[i] = np.array(result[i], dtype='float64')\n",
    "        try:\n",
    "            npmean = np.mean(result[i], axis = 0)\n",
    "            new_centroid[i].append(npmean)\n",
    "            new_centroid[i] = new_centroid[i][0]\n",
    "        except: \n",
    "            new_centroid[i] = []\n",
    "    new_centroid = pd.DataFrame.from_dict(new_centroid)\n",
    "    new_centroid = new_centroid.dropna(axis = 'columns')\n",
    "    return (new_centroid.transpose(), result, nresult)"
   ]
  },
  {
   "cell_type": "markdown",
   "metadata": {},
   "source": [
    "## Function to Compute Cost"
   ]
  },
  {
   "cell_type": "code",
   "execution_count": 7,
   "metadata": {},
   "outputs": [],
   "source": [
    "def costSVM(centroids, result):\n",
    "    z = pd.DataFrame.to_dict(centroids.T)\n",
    "    x,y = 0, 0\n",
    "    for i in z:\n",
    "        z[i] = np.array([z[i][0], z[i][1], z[i][2]], dtype = 'float64')\n",
    "    for i in z:\n",
    "        x = dist(z[i], result[i])\n",
    "        x = np.sum(x)\n",
    "        y+= x\n",
    "    return y"
   ]
  },
  {
   "cell_type": "markdown",
   "metadata": {},
   "source": [
    "## K-Means Function"
   ]
  },
  {
   "cell_type": "code",
   "execution_count": 8,
   "metadata": {},
   "outputs": [],
   "source": [
    "def K_Means(x, centroids):\n",
    "    data_points = np.array(x,dtype='float64')\n",
    "    z = np.array(centroids, dtype='float64')\n",
    "    \n",
    "    centroid = copy.deepcopy(z)\n",
    "    #While true, compute cost and so long as cost is not the same as the prev\n",
    "    centroid, result, ncluster_grp = getCluster(data_points, centroid)\n",
    "    errorList = [costSVM(centroid,result)]\n",
    "    centroid, result, ncluster_grp = getCluster(data_points, centroid)\n",
    "    errorList.append(costSVM(centroid,result))\n",
    "    \n",
    "    while True:\n",
    "        centroid, result, ncluster_grp = getCluster(data_points, centroid)\n",
    "        errorList.append(costSVM(centroid,result))\n",
    "        if errorList[len(errorList)-2] == errorList[len(errorList)-1]:\n",
    "            break\n",
    "    return errorList, centroid, result, ncluster_grp"
   ]
  },
  {
   "cell_type": "code",
   "execution_count": 9,
   "metadata": {},
   "outputs": [
    {
     "name": "stderr",
     "output_type": "stream",
     "text": [
      "C:\\Users\\Asus\\Anaconda3\\envs\\tf_gpu\\lib\\site-packages\\numpy\\core\\fromnumeric.py:3118: RuntimeWarning: Mean of empty slice.\n",
      "  out=out, **kwargs)\n",
      "C:\\Users\\Asus\\Anaconda3\\envs\\tf_gpu\\lib\\site-packages\\numpy\\core\\_methods.py:85: RuntimeWarning: invalid value encountered in double_scalars\n",
      "  ret = ret.dtype.type(ret / rcount)\n"
     ]
    }
   ],
   "source": [
    "error, new_centroids, result, ncluster_grp = K_Means(x, initial_centroids)"
   ]
  },
  {
   "cell_type": "markdown",
   "metadata": {},
   "source": [
    "## List of all the Centroids: In the end there are 6 clusters since 2 cannot be considered and the final clusters"
   ]
  },
  {
   "cell_type": "code",
   "execution_count": 10,
   "metadata": {},
   "outputs": [
    {
     "data": {
      "text/html": [
       "<div>\n",
       "<style scoped>\n",
       "    .dataframe tbody tr th:only-of-type {\n",
       "        vertical-align: middle;\n",
       "    }\n",
       "\n",
       "    .dataframe tbody tr th {\n",
       "        vertical-align: top;\n",
       "    }\n",
       "\n",
       "    .dataframe thead th {\n",
       "        text-align: right;\n",
       "    }\n",
       "</style>\n",
       "<table border=\"1\" class=\"dataframe\">\n",
       "  <thead>\n",
       "    <tr style=\"text-align: right;\">\n",
       "      <th></th>\n",
       "      <th>0</th>\n",
       "      <th>1</th>\n",
       "      <th>2</th>\n",
       "    </tr>\n",
       "  </thead>\n",
       "  <tbody>\n",
       "    <tr>\n",
       "      <th>0</th>\n",
       "      <td>241.229615</td>\n",
       "      <td>238.625152</td>\n",
       "      <td>233.862880</td>\n",
       "    </tr>\n",
       "    <tr>\n",
       "      <th>1</th>\n",
       "      <td>194.411587</td>\n",
       "      <td>136.333114</td>\n",
       "      <td>90.943647</td>\n",
       "    </tr>\n",
       "    <tr>\n",
       "      <th>2</th>\n",
       "      <td>136.265556</td>\n",
       "      <td>61.089731</td>\n",
       "      <td>10.103855</td>\n",
       "    </tr>\n",
       "    <tr>\n",
       "      <th>3</th>\n",
       "      <td>157.291733</td>\n",
       "      <td>97.593975</td>\n",
       "      <td>51.433296</td>\n",
       "    </tr>\n",
       "    <tr>\n",
       "      <th>4</th>\n",
       "      <td>78.927437</td>\n",
       "      <td>37.108287</td>\n",
       "      <td>13.070705</td>\n",
       "    </tr>\n",
       "    <tr>\n",
       "      <th>5</th>\n",
       "      <td>25.978002</td>\n",
       "      <td>23.235754</td>\n",
       "      <td>23.605991</td>\n",
       "    </tr>\n",
       "  </tbody>\n",
       "</table>\n",
       "</div>"
      ],
      "text/plain": [
       "            0           1           2\n",
       "0  241.229615  238.625152  233.862880\n",
       "1  194.411587  136.333114   90.943647\n",
       "2  136.265556   61.089731   10.103855\n",
       "3  157.291733   97.593975   51.433296\n",
       "4   78.927437   37.108287   13.070705\n",
       "5   25.978002   23.235754   23.605991"
      ]
     },
     "execution_count": 10,
     "metadata": {},
     "output_type": "execute_result"
    }
   ],
   "source": [
    "new_centroids"
   ]
  },
  {
   "cell_type": "markdown",
   "metadata": {},
   "source": [
    "## Training Error for K-Means Clustering and the plot"
   ]
  },
  {
   "cell_type": "code",
   "execution_count": 11,
   "metadata": {},
   "outputs": [
    {
     "data": {
      "text/plain": [
       "[6849626.994077693,\n",
       " 5428852.420420525,\n",
       " 5253129.122097301,\n",
       " 4954526.86497974,\n",
       " 4470439.959182494,\n",
       " 4389090.243573172,\n",
       " 4386899.110875333,\n",
       " 4389013.724993991,\n",
       " 4392154.55083562,\n",
       " 4393413.5741803255,\n",
       " 4394239.549556059,\n",
       " 4395580.688957701,\n",
       " 4395561.344070264,\n",
       " 4395437.333617357,\n",
       " 4395446.658795097,\n",
       " 4395407.167632084,\n",
       " 4395082.623314356,\n",
       " 4394248.374531303,\n",
       " 4393217.474379174,\n",
       " 4391087.7776281815,\n",
       " 4387797.04048376,\n",
       " 4380730.655901118,\n",
       " 4365049.038153866,\n",
       " 4316751.645374332,\n",
       " 4238330.567343465,\n",
       " 4192249.710367201,\n",
       " 4164832.588026598,\n",
       " 4147586.6301558767,\n",
       " 4139289.448156015,\n",
       " 4136435.847490309,\n",
       " 4136079.6662893696,\n",
       " 4135580.0499912617,\n",
       " 4136044.206531724,\n",
       " 4135528.7553891772,\n",
       " 4135221.277475971,\n",
       " 4134708.9183741,\n",
       " 4134669.553386419,\n",
       " 4134825.346624178,\n",
       " 4134931.3754431596,\n",
       " 4135030.085534461,\n",
       " 4135105.498981531,\n",
       " 4135148.1936253086,\n",
       " 4135167.5849645277,\n",
       " 4135189.0216652015,\n",
       " 4135182.284614821,\n",
       " 4135174.1787156947,\n",
       " 4135181.766520245,\n",
       " 4135181.766520245]"
      ]
     },
     "execution_count": 11,
     "metadata": {},
     "output_type": "execute_result"
    }
   ],
   "source": [
    "error"
   ]
  },
  {
   "cell_type": "code",
   "execution_count": 12,
   "metadata": {},
   "outputs": [
    {
     "data": {
      "image/png": "[encoded data removed]",
      "text/plain": [
       "<Figure size 432x288 with 1 Axes>"
      ]
     },
     "metadata": {
      "needs_background": "light"
     },
     "output_type": "display_data"
    }
   ],
   "source": [
    "plt.scatter([f for f in range(len(error))], error)\n",
    "plt.show()"
   ]
  },
  {
   "cell_type": "markdown",
   "metadata": {},
   "source": [
    "## Converted Clusters: List of all the points in each cluster saved as a dictionary"
   ]
  },
  {
   "cell_type": "code",
   "execution_count": 13,
   "metadata": {},
   "outputs": [
    {
     "data": {
      "text/plain": [
       "{0: array([[249., 237., 239.],\n",
       "        [218., 196., 183.],\n",
       "        [215., 192., 176.],\n",
       "        ...,\n",
       "        [217., 222., 218.],\n",
       "        [193., 191., 178.],\n",
       "        [200., 196., 185.]]), 1: array([[153., 132.,  79.],\n",
       "        [155., 132.,  80.],\n",
       "        [155., 132.,  80.],\n",
       "        ...,\n",
       "        [151., 147., 136.],\n",
       "        [154., 148., 148.],\n",
       "        [153., 147., 147.]]), 2: array([[102.,  77.,  36.],\n",
       "        [107.,  59.,  23.],\n",
       "        [115.,  59.,  22.],\n",
       "        ...,\n",
       "        [143.,  66.,  14.],\n",
       "        [132.,  54.,   6.],\n",
       "        [112.,  40.,   2.]]), 3: array([[129., 108.,  61.],\n",
       "        [117.,  96.,  51.],\n",
       "        [129., 108.,  61.],\n",
       "        ...,\n",
       "        [ 89.,  88.,  83.],\n",
       "        [110., 111., 106.],\n",
       "        [101., 103., 100.]]), 4: array([[ 94.,  64.,  26.],\n",
       "        [ 97.,  59.,  22.],\n",
       "        [105.,  49.,  14.],\n",
       "        ...,\n",
       "        [ 81.,  36.,   7.],\n",
       "        [ 71.,  31.,   6.],\n",
       "        [ 66.,  31.,  11.]]), 5: array([[51., 24.,  5.],\n",
       "        [51., 24.,  7.],\n",
       "        [51., 24.,  7.],\n",
       "        ...,\n",
       "        [ 6.,  7.,  2.],\n",
       "        [11.,  6.,  0.],\n",
       "        [20.,  9.,  3.]])}"
      ]
     },
     "execution_count": 13,
     "metadata": {},
     "output_type": "execute_result"
    }
   ],
   "source": [
    "result"
   ]
  },
  {
   "cell_type": "markdown",
   "metadata": {},
   "source": [
    "## Image preparation"
   ]
  },
  {
   "cell_type": "code",
   "execution_count": 14,
   "metadata": {},
   "outputs": [],
   "source": [
    "new_centroids = np.array(new_centroids)"
   ]
  },
  {
   "cell_type": "code",
   "execution_count": 15,
   "metadata": {},
   "outputs": [],
   "source": [
    "ncluster_grp = np.array(ncluster_grp)"
   ]
  },
  {
   "cell_type": "code",
   "execution_count": 16,
   "metadata": {},
   "outputs": [
    {
     "data": {
      "text/plain": [
       "array([[3, array([129., 108.,  61.])],\n",
       "       [3, array([117.,  96.,  51.])],\n",
       "       [2, array([102.,  77.,  36.])],\n",
       "       ...,\n",
       "       [4, array([81., 36.,  7.])],\n",
       "       [4, array([71., 31.,  6.])],\n",
       "       [4, array([66., 31., 11.])]], dtype=object)"
      ]
     },
     "execution_count": 16,
     "metadata": {},
     "output_type": "execute_result"
    }
   ],
   "source": [
    "ncluster_grp"
   ]
  },
  {
   "cell_type": "code",
   "execution_count": 17,
   "metadata": {},
   "outputs": [
    {
     "data": {
      "text/plain": [
       "{0: array([241.2296146 , 238.62515213, 233.86288032]),\n",
       " 1: array([194.41158657, 136.33311389,  90.94364714]),\n",
       " 2: array([136.2655563 ,  61.08973066,  10.10385457]),\n",
       " 3: array([157.29173273,  97.59397508,  51.43329558]),\n",
       " 4: array([78.92743714, 37.10828688, 13.07070482]),\n",
       " 5: array([25.97800232, 23.23575423, 23.60599063])}"
      ]
     },
     "execution_count": 17,
     "metadata": {},
     "output_type": "execute_result"
    }
   ],
   "source": [
    "new_centroids = {new_list: new_centroids[new_list] for new_list in range(len(new_centroids))}\n",
    "new_centroids"
   ]
  },
  {
   "cell_type": "markdown",
   "metadata": {},
   "source": [
    "## Show Image"
   ]
  },
  {
   "cell_type": "code",
   "execution_count": 18,
   "metadata": {},
   "outputs": [
    {
     "data": {
      "image/png": "[encoded data removed]",
      "text/plain": [
       "<PIL.Image.Image image mode=RGB size=407x516 at 0x233392F76D8>"
      ]
     },
     "execution_count": 18,
     "metadata": {},
     "output_type": "execute_result"
    }
   ],
   "source": [
    "from PIL import Image\n",
    "new_img = []\n",
    "for i in range(len(ncluster_grp)):\n",
    "    key = ncluster_grp[i][0]\n",
    "    new_img.append(new_centroids[key])\n",
    "new_img = np.array(new_img, dtype= 'uint8').reshape(516,407,3)\n",
    "Image.fromarray(new_img)"
   ]
  },
  {
   "cell_type": "markdown",
   "metadata": {},
   "source": [
    "## Question 2"
   ]
  },
  {
   "cell_type": "markdown",
   "metadata": {},
   "source": [
    "### Image A: Manhattan Method"
   ]
  },
  {
   "cell_type": "markdown",
   "metadata": {},
   "source": [
    "### Image B: Euclidean distance"
   ]
  },
  {
   "cell_type": "markdown",
   "metadata": {},
   "source": [
    "### Image C:  l∞distance method"
   ]
  },
  {
   "cell_type": "markdown",
   "metadata": {},
   "source": [
    "## Question 3:"
   ]
  },
  {
   "cell_type": "markdown",
   "metadata": {},
   "source": [
    "#### The Advantages of K-mediods over k-Means:"
   ]
  },
  {
   "cell_type": "markdown",
   "metadata": {},
   "source": [
    " - K-Medoid Method is more flexible in terms of use. This is because There are more cases of k-Means not converging as must only be used with distances that are consistent with the mean\n",
    " - K-Medoid Method is more robust to noises and outliers"
   ]
  },
  {
   "cell_type": "markdown",
   "metadata": {},
   "source": [
    "#### The Disadvantage of K-Medoids over k-Means:"
   ]
  },
  {
   "cell_type": "markdown",
   "metadata": {},
   "source": [
    " - K-Medoids are computationally more expensive than k-Means (K-Medoids complexity is O(i*k*(n-k)^2), where i is the total number of iterations,k is total number of clusters, and n is the number of objects. whereas K-Means complexity is O(i*k*m*n), where I is the number of iterations required for convergence,m is the number of points, k is number of clusters."
   ]
  },
  {
   "cell_type": "code",
   "execution_count": null,
   "metadata": {},
   "outputs": [],
   "source": []
  }
 ],
 "metadata": {
  "kernelspec": {
   "display_name": "Python 3",
   "language": "python",
   "name": "python3"
  },
  "language_info": {
   "codemirror_mode": {
    "name": "ipython",
    "version": 3
   },
   "file_extension": ".py",
   "mimetype": "text/x-python",
   "name": "python",
   "nbconvert_exporter": "python",
   "pygments_lexer": "ipython3",
   "version": "3.7.3"
  }
 },
 "nbformat": 4,
 "nbformat_minor": 2
}
