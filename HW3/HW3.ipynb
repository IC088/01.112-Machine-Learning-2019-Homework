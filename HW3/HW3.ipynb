{
 "cells": [
  {
   "cell_type": "markdown",
   "metadata": {},
   "source": [
    "# Homework 3: SVM"
   ]
  },
  {
   "cell_type": "markdown",
   "metadata": {},
   "source": [
    "## 1."
   ]
  },
  {
   "cell_type": "code",
   "execution_count": 5,
   "metadata": {},
   "outputs": [
    {
     "name": "stdout",
     "output_type": "stream",
     "text": [
      "Requirement already satisfied: libsvm==3.23 from file:///C:/Users/Asus/Documents/GitHub/01.112-Machine-Learning-2019-Homework/HW3/libsvm-3.23-cp37-cp37m-win_amd64.whl in c:\\users\\asus\\anaconda3\\envs\\tf_gpu\\lib\\site-packages (3.23)\n"
     ]
    }
   ],
   "source": [
    "!pip install libsvm-3.23-cp37-cp37m-win_amd64.whl\n",
    "import svm\n",
    "from svmutil import *"
   ]
  },
  {
   "cell_type": "code",
   "execution_count": 29,
   "metadata": {},
   "outputs": [],
   "source": [
    "y, x = svm_read_problem('./HW3_data/1/promoters/training.txt')\n",
    "y_test, x_test = svm_read_problem('./HW3_data/1/promoters/test.txt')"
   ]
  },
  {
   "cell_type": "code",
   "execution_count": 45,
   "metadata": {},
   "outputs": [
    {
     "name": "stdout",
     "output_type": "stream",
     "text": [
      "Accuracy = 84.375% (27/32) (classification)\n"
     ]
    }
   ],
   "source": [
    "prob = svm_problem(y, x, isKernel=True)\n",
    "param = svm_parameter('-t 0')\n",
    "m = svm_train(prob, param)\n",
    "svm_save_model('kernel_0.model', m)\n",
    "m = svm_load_model('kernel_0.model')\n",
    "p_label, p_acc, p_val = svm_predict(y_test, x_test, m)\n",
    "ACC, MSE, SCC = evaluations(y_test, p_label)"
   ]
  },
  {
   "cell_type": "code",
   "execution_count": 46,
   "metadata": {},
   "outputs": [
    {
     "name": "stdout",
     "output_type": "stream",
     "text": [
      "Accuracy = 81.25% (26/32) (classification)\n"
     ]
    }
   ],
   "source": [
    "prob = svm_problem(y, x, isKernel=True)\n",
    "param = svm_parameter('-t 1')\n",
    "m = svm_train(prob, param)\n",
    "svm_save_model('kernel_1.model', m)\n",
    "m = svm_load_model('kernel_1.model')\n",
    "p_label, p_acc, p_val = svm_predict(y_test, x_test, m)\n",
    "ACC, MSE, SCC = evaluations(y_test, p_label)"
   ]
  },
  {
   "cell_type": "code",
   "execution_count": 47,
   "metadata": {},
   "outputs": [
    {
     "name": "stdout",
     "output_type": "stream",
     "text": [
      "Accuracy = 90.625% (29/32) (classification)\n"
     ]
    }
   ],
   "source": [
    "prob = svm_problem(y, x, isKernel=True)\n",
    "param = svm_parameter('-t 2')\n",
    "m = svm_train(prob, param)\n",
    "svm_save_model('kernel_2.model', m)\n",
    "m = svm_load_model('kernel_2.model')\n",
    "p_label, p_acc, p_val = svm_predict(y_test, x_test, m)\n",
    "ACC, MSE, SCC = evaluations(y_test, p_label)"
   ]
  },
  {
   "cell_type": "code",
   "execution_count": 48,
   "metadata": {},
   "outputs": [
    {
     "name": "stdout",
     "output_type": "stream",
     "text": [
      "Accuracy = 43.75% (14/32) (classification)\n"
     ]
    }
   ],
   "source": [
    "prob = svm_problem(y, x, isKernel=True)\n",
    "param = svm_parameter('-t 3')\n",
    "m = svm_train(prob, param)\n",
    "svm_save_model('kernel_3.model', m)\n",
    "m = svm_load_model('kernel_3.model')\n",
    "p_label, p_acc, p_val = svm_predict(y_test, x_test, m)\n",
    "ACC, MSE, SCC = evaluations(y_test, p_label)"
   ]
  },
  {
   "cell_type": "markdown",
   "metadata": {},
   "source": [
    "## 2."
   ]
  },
  {
   "cell_type": "markdown",
   "metadata": {},
   "source": [
    "x(1) = (1,1).tranpose()         y(1) = 1\n",
    "\n",
    "x(2) = (1,0).transpose()        y(2) = -1\n",
    "\n",
    "Objective: min 0.5 ||w||^2 subject to y(t) "
   ]
  },
  {
   "cell_type": "code",
   "execution_count": null,
   "metadata": {},
   "outputs": [],
   "source": []
  }
 ],
 "metadata": {
  "kernelspec": {
   "display_name": "Python 3",
   "language": "python",
   "name": "python3"
  },
  "language_info": {
   "codemirror_mode": {
    "name": "ipython",
    "version": 3
   },
   "file_extension": ".py",
   "mimetype": "text/x-python",
   "name": "python",
   "nbconvert_exporter": "python",
   "pygments_lexer": "ipython3",
   "version": "3.7.3"
  }
 },
 "nbformat": 4,
 "nbformat_minor": 2
}
