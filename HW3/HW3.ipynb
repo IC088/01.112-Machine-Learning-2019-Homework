{
 "cells": [
  {
   "cell_type": "markdown",
   "metadata": {},
   "source": [
    "# Homework 3: SVM"
   ]
  },
  {
   "cell_type": "markdown",
   "metadata": {},
   "source": [
    "## 1."
   ]
  },
  {
   "cell_type": "code",
   "execution_count": 1,
   "metadata": {},
   "outputs": [
    {
     "name": "stdout",
     "output_type": "stream",
     "text": [
      "Requirement already satisfied: libsvm==3.23 from file:///C:/Users/Asus/Documents/GitHub/01.112-Machine-Learning-2019-Homework/HW3/libsvm-3.23-cp37-cp37m-win_amd64.whl in c:\\users\\asus\\anaconda3\\envs\\tf_gpu\\lib\\site-packages (3.23)\n"
     ]
    }
   ],
   "source": [
    "!pip install libsvm-3.23-cp37-cp37m-win_amd64.whl\n",
    "import svm\n",
    "from svmutil import *"
   ]
  },
  {
   "cell_type": "code",
   "execution_count": 2,
   "metadata": {},
   "outputs": [],
   "source": [
    "y, x = svm_read_problem('./HW3_data/1/promoters/training.txt')\n",
    "y_test, x_test = svm_read_problem('./HW3_data/1/promoters/test.txt')"
   ]
  },
  {
   "cell_type": "code",
   "execution_count": 3,
   "metadata": {},
   "outputs": [
    {
     "name": "stdout",
     "output_type": "stream",
     "text": [
      "Accuracy = 84.375% (27/32) (classification)\n"
     ]
    }
   ],
   "source": [
    "prob = svm_problem(y, x, isKernel=True)\n",
    "param = svm_parameter('-t 0')\n",
    "m = svm_train(prob, param)\n",
    "svm_save_model('kernel_0.model', m)\n",
    "m = svm_load_model('kernel_0.model')\n",
    "p_label, p_acc, p_val = svm_predict(y_test, x_test, m)\n",
    "ACC, MSE, SCC = evaluations(y_test, p_label)"
   ]
  },
  {
   "cell_type": "code",
   "execution_count": 4,
   "metadata": {},
   "outputs": [
    {
     "name": "stdout",
     "output_type": "stream",
     "text": [
      "Accuracy = 81.25% (26/32) (classification)\n"
     ]
    }
   ],
   "source": [
    "prob = svm_problem(y, x, isKernel=True)\n",
    "param = svm_parameter('-t 1')\n",
    "m = svm_train(prob, param)\n",
    "svm_save_model('kernel_1.model', m)\n",
    "m = svm_load_model('kernel_1.model')\n",
    "p_label, p_acc, p_val = svm_predict(y_test, x_test, m)\n",
    "ACC, MSE, SCC = evaluations(y_test, p_label)"
   ]
  },
  {
   "cell_type": "code",
   "execution_count": 5,
   "metadata": {},
   "outputs": [
    {
     "name": "stdout",
     "output_type": "stream",
     "text": [
      "Accuracy = 90.625% (29/32) (classification)\n"
     ]
    }
   ],
   "source": [
    "prob = svm_problem(y, x, isKernel=True)\n",
    "param = svm_parameter('-t 2')\n",
    "m = svm_train(prob, param)\n",
    "svm_save_model('kernel_2.model', m)\n",
    "m = svm_load_model('kernel_2.model')\n",
    "p_label, p_acc, p_val = svm_predict(y_test, x_test, m)\n",
    "ACC, MSE, SCC = evaluations(y_test, p_label)"
   ]
  },
  {
   "cell_type": "code",
   "execution_count": 6,
   "metadata": {},
   "outputs": [
    {
     "name": "stdout",
     "output_type": "stream",
     "text": [
      "Accuracy = 43.75% (14/32) (classification)\n"
     ]
    }
   ],
   "source": [
    "prob = svm_problem(y, x, isKernel=True)\n",
    "param = svm_parameter('-t 3')\n",
    "m = svm_train(prob, param)\n",
    "svm_save_model('kernel_3.model', m)\n",
    "m = svm_load_model('kernel_3.model')\n",
    "p_label, p_acc, p_val = svm_predict(y_test, x_test, m)\n",
    "ACC, MSE, SCC = evaluations(y_test, p_label)"
   ]
  },
  {
   "cell_type": "markdown",
   "metadata": {},
   "source": [
    "## 4. a."
   ]
  },
  {
   "cell_type": "markdown",
   "metadata": {},
   "source": [
    "∏P(y(i)|x(i))"
   ]
  },
  {
   "cell_type": "code",
   "execution_count": 7,
   "metadata": {},
   "outputs": [],
   "source": [
    "import random\n",
    "import numpy as np\n",
    "\n",
    "def random_list(n, secure=True):\n",
    "    random_floats = []\n",
    "    if secure:\n",
    "        crypto = random.SystemRandom()\n",
    "        random_float = crypto.random\n",
    "    else:\n",
    "        random_float = random.random\n",
    "    for _ in range(n):\n",
    "        random_floats.append(random_float())\n",
    "    return random_floats"
   ]
  },
  {
   "cell_type": "code",
   "execution_count": 8,
   "metadata": {},
   "outputs": [],
   "source": [
    "def multiplyList(myList) : \n",
    "      \n",
    "    # Multiply elements one by one \n",
    "    result = 1\n",
    "    for x in myList: \n",
    "         result = result * x  \n",
    "    return result"
   ]
  },
  {
   "cell_type": "code",
   "execution_count": 9,
   "metadata": {},
   "outputs": [
    {
     "data": {
      "text/plain": [
       "(0.0, 0.0)"
      ]
     },
     "execution_count": 9,
     "metadata": {},
     "output_type": "execute_result"
    }
   ],
   "source": [
    "import datetime\n",
    "\n",
    "rnd = random_list(1000, secure=False)\n",
    "rnd = np.array(rnd, dtype='float')\n",
    "a = datetime.datetime.now()\n",
    "result = multiplyList(rnd)\n",
    "b = datetime.datetime.now()\n",
    "time = b-a\n",
    "result, float(time.total_seconds() * 1000)"
   ]
  },
  {
   "cell_type": "markdown",
   "metadata": {},
   "source": [
    "(∑log(1 + exp(−y(i)(θ·x(i)+θ0))))/n ======= Using log functions to process the probabilities"
   ]
  },
  {
   "cell_type": "code",
   "execution_count": 10,
   "metadata": {},
   "outputs": [
    {
     "data": {
      "text/plain": [
       "(-427.8120464506432, 0.0)"
      ]
     },
     "execution_count": 10,
     "metadata": {},
     "output_type": "execute_result"
    }
   ],
   "source": [
    "rnd = random_list(1000, secure=False)\n",
    "rnd = np.log10(rnd)\n",
    "result = 0 \n",
    "a = datetime.datetime.now()\n",
    "for i in rnd:\n",
    "    result+=i\n",
    "b = datetime.datetime.now()\n",
    "time = b-a\n",
    "result, float(time.total_seconds() * 1000)"
   ]
  },
  {
   "cell_type": "markdown",
   "metadata": {},
   "source": [
    "Computational Advantage of Equation 2 over Equation 1 is that Equation 2 is less expensive in terms of time taken since the log functions are less than calculating the product. It is also to be noted that there is a possibility of overflowing when calculating the products"
   ]
  },
  {
   "cell_type": "markdown",
   "metadata": {},
   "source": [
    "## 4. b."
   ]
  },
  {
   "cell_type": "markdown",
   "metadata": {},
   "source": [
    "### Instructions to run the code: "
   ]
  },
  {
   "cell_type": "markdown",
   "metadata": {},
   "source": [
    "#### -  Make sure that you can read the jupyter notebook, and to run the code itself you only need to run the notebook\n",
    "#### - Make sure that the necessary libraries are installed. This notebook does not require additional libraries than the ones needed\n",
    "### 1. Restart Kernel and Run all if you are using jupyter notebook, or the equivalent.\n",
    "### 2. To run the python file, \n",
    "        #### if you are using Windows, go to cmd and the directory of this file and run: \n",
    "        #### python {filename}.py\n",
    "        \n",
    "        #### if you are using a unix based system, got to your terminal and run:\n",
    "        #### python {filename}.py"
   ]
  },
  {
   "cell_type": "code",
   "execution_count": 11,
   "metadata": {},
   "outputs": [],
   "source": [
    "import pandas as pd\n",
    "import numpy as np"
   ]
  },
  {
   "cell_type": "code",
   "execution_count": 12,
   "metadata": {},
   "outputs": [],
   "source": [
    "df = pd.read_csv('./HW3_data/4/diabetes_train.csv', header = None)\n",
    "y = df.iloc[:, :1]\n",
    "x = df.iloc[:, 1:]\n",
    "\n",
    "y = np.array(y,dtype='float64')\n",
    "\n",
    "x = np.array(x,dtype='float64')"
   ]
  },
  {
   "cell_type": "code",
   "execution_count": 53,
   "metadata": {},
   "outputs": [],
   "source": [
    "def n_cost_function(theta, x, y):\n",
    "    '''\n",
    "    X - dataframe for the training set\n",
    "    y - dataframe for the actual set\n",
    "    theta - features\n",
    "    '''\n",
    "#     ones = np.ones(shape=x.shape) #biases\n",
    "#     X = np.hstack((x,ones))\n",
    "    pred = np.dot(x, theta)  # 3000, 1 shape\n",
    "    cost = np.log(1 + np.exp(np.multiply(-y, pred)))\n",
    "    return cost.mean()"
   ]
  },
  {
   "cell_type": "code",
   "execution_count": 54,
   "metadata": {},
   "outputs": [],
   "source": [
    "def n_likelihood_function(theta, x, y):\n",
    "    '''\n",
    "    X - dataframe for the training set\n",
    "    y - dataframe for the actual set\n",
    "    theta - features\n",
    "    '''\n",
    "#     ones = np.ones(shape=x.shape) #biases\n",
    "#     X = np.hstack((x,ones))\n",
    "    pred = np.dot(x, theta)  # 3000, 1 shape\n",
    "    cost = np.log(1/(1 + np.exp(np.multiply(-y, pred))))\n",
    "    return cost.mean()"
   ]
  },
  {
   "cell_type": "code",
   "execution_count": 55,
   "metadata": {},
   "outputs": [],
   "source": [
    "def n_d_cost(theta, x, y):\n",
    "    '''\n",
    "    X - dataframe for the training set\n",
    "    y - dataframe for the actual set\n",
    "    theta - features\n",
    "    update parameters: −y(t)x(t)/1 + exp(y(t)(θ·x(t)))\n",
    "    '''\n",
    "    top = np.multiply(-y, x)\n",
    "    pred = np.dot(x, theta)\n",
    "    bot = 1 + np.exp(np.multiply(y, pred))\n",
    "    return (top/bot)"
   ]
  },
  {
   "cell_type": "code",
   "execution_count": 78,
   "metadata": {},
   "outputs": [],
   "source": [
    "#     a = np.random.choice(range(n), n, replace=False)\n",
    "from random import randrange\n",
    "def n_sgd(arrx, arry,learning_rate=0.01, epochs=50):\n",
    "    theta = np.zeros(shape=(21,1))\n",
    "    ones = np.ones(shape = (3000,1))\n",
    "    arrx_array = np.hstack((ones, arrx))\n",
    "    arry_array = np.array(arry, dtype='float64')\n",
    "    n = len(arrx)\n",
    "    minloss = 10**10\n",
    "    bestTheta = 0\n",
    "    err = []  \n",
    "    like = []\n",
    "    for j in range(epochs): #This is for the number of training iteration.\n",
    "        i = randrange(n)\n",
    "        loss = n_cost_function(theta,arrx_array, arry_array)\n",
    "        likelihood = n_likelihood_function(theta,arrx_array, arry_array)\n",
    "        theta -= (learning_rate * n_d_cost(theta,arrx_array[i],arry_array[i]).reshape(21,1))      \n",
    "        if loss < minloss:\n",
    "            minloss = loss\n",
    "            bestTheta = np.copy(theta)\n",
    "        err.append(loss)\n",
    "        like.append(likelihood)\n",
    "        if (j + 1) % 100 == 0:\n",
    "            # save weights of the function\n",
    "            np.save(f'./models/model_{j+1}',theta, allow_pickle=True, fix_imports=True)\n",
    "            print(f'>>> Model_{j+1} saved to models')\n",
    "    return bestTheta , minloss, err, like"
   ]
  },
  {
   "cell_type": "code",
   "execution_count": 79,
   "metadata": {},
   "outputs": [
    {
     "name": "stdout",
     "output_type": "stream",
     "text": [
      ">>> Model_100 saved to models\n",
      ">>> Model_200 saved to models\n",
      ">>> Model_300 saved to models\n",
      ">>> Model_400 saved to models\n",
      ">>> Model_500 saved to models\n",
      ">>> Model_600 saved to models\n",
      ">>> Model_700 saved to models\n",
      ">>> Model_800 saved to models\n",
      ">>> Model_900 saved to models\n",
      ">>> Model_1000 saved to models\n",
      ">>> Model_1100 saved to models\n",
      ">>> Model_1200 saved to models\n",
      ">>> Model_1300 saved to models\n",
      ">>> Model_1400 saved to models\n",
      ">>> Model_1500 saved to models\n",
      ">>> Model_1600 saved to models\n",
      ">>> Model_1700 saved to models\n",
      ">>> Model_1800 saved to models\n",
      ">>> Model_1900 saved to models\n",
      ">>> Model_2000 saved to models\n",
      ">>> Model_2100 saved to models\n",
      ">>> Model_2200 saved to models\n",
      ">>> Model_2300 saved to models\n",
      ">>> Model_2400 saved to models\n",
      ">>> Model_2500 saved to models\n",
      ">>> Model_2600 saved to models\n",
      ">>> Model_2700 saved to models\n",
      ">>> Model_2800 saved to models\n",
      ">>> Model_2900 saved to models\n",
      ">>> Model_3000 saved to models\n",
      ">>> Model_3100 saved to models\n",
      ">>> Model_3200 saved to models\n",
      ">>> Model_3300 saved to models\n",
      ">>> Model_3400 saved to models\n",
      ">>> Model_3500 saved to models\n",
      ">>> Model_3600 saved to models\n",
      ">>> Model_3700 saved to models\n",
      ">>> Model_3800 saved to models\n",
      ">>> Model_3900 saved to models\n",
      ">>> Model_4000 saved to models\n",
      ">>> Model_4100 saved to models\n",
      ">>> Model_4200 saved to models\n",
      ">>> Model_4300 saved to models\n",
      ">>> Model_4400 saved to models\n",
      ">>> Model_4500 saved to models\n",
      ">>> Model_4600 saved to models\n",
      ">>> Model_4700 saved to models\n",
      ">>> Model_4800 saved to models\n",
      ">>> Model_4900 saved to models\n",
      ">>> Model_5000 saved to models\n",
      ">>> Model_5100 saved to models\n",
      ">>> Model_5200 saved to models\n",
      ">>> Model_5300 saved to models\n",
      ">>> Model_5400 saved to models\n",
      ">>> Model_5500 saved to models\n",
      ">>> Model_5600 saved to models\n",
      ">>> Model_5700 saved to models\n",
      ">>> Model_5800 saved to models\n",
      ">>> Model_5900 saved to models\n",
      ">>> Model_6000 saved to models\n",
      ">>> Model_6100 saved to models\n",
      ">>> Model_6200 saved to models\n",
      ">>> Model_6300 saved to models\n",
      ">>> Model_6400 saved to models\n",
      ">>> Model_6500 saved to models\n",
      ">>> Model_6600 saved to models\n",
      ">>> Model_6700 saved to models\n",
      ">>> Model_6800 saved to models\n",
      ">>> Model_6900 saved to models\n",
      ">>> Model_7000 saved to models\n",
      ">>> Model_7100 saved to models\n",
      ">>> Model_7200 saved to models\n",
      ">>> Model_7300 saved to models\n",
      ">>> Model_7400 saved to models\n",
      ">>> Model_7500 saved to models\n",
      ">>> Model_7600 saved to models\n",
      ">>> Model_7700 saved to models\n",
      ">>> Model_7800 saved to models\n",
      ">>> Model_7900 saved to models\n",
      ">>> Model_8000 saved to models\n",
      ">>> Model_8100 saved to models\n",
      ">>> Model_8200 saved to models\n",
      ">>> Model_8300 saved to models\n",
      ">>> Model_8400 saved to models\n",
      ">>> Model_8500 saved to models\n",
      ">>> Model_8600 saved to models\n",
      ">>> Model_8700 saved to models\n",
      ">>> Model_8800 saved to models\n",
      ">>> Model_8900 saved to models\n",
      ">>> Model_9000 saved to models\n",
      ">>> Model_9100 saved to models\n",
      ">>> Model_9200 saved to models\n",
      ">>> Model_9300 saved to models\n",
      ">>> Model_9400 saved to models\n",
      ">>> Model_9500 saved to models\n",
      ">>> Model_9600 saved to models\n",
      ">>> Model_9700 saved to models\n",
      ">>> Model_9800 saved to models\n",
      ">>> Model_9900 saved to models\n",
      ">>> Model_10000 saved to models\n"
     ]
    }
   ],
   "source": [
    "n_theta, n_loss, n_err, n_like = n_sgd(x,y,0.1,10000)"
   ]
  },
  {
   "cell_type": "code",
   "execution_count": 80,
   "metadata": {},
   "outputs": [
    {
     "name": "stdout",
     "output_type": "stream",
     "text": [
      "--- Cost for every 100 iteration ---\n"
     ]
    },
    {
     "data": {
      "image/png": "[encoded data removed]",
      "text/plain": [
       "<Figure size 432x288 with 1 Axes>"
      ]
     },
     "metadata": {
      "needs_background": "light"
     },
     "output_type": "display_data"
    }
   ],
   "source": [
    "import matplotlib.pyplot as plt\n",
    "\n",
    "\n",
    "print(\"--- Cost for every 100 iteration ---\")\n",
    "plt.title('Cost for every 100 iteration')\n",
    "plt.ylabel('Cost')\n",
    "plt.xlabel('Number of iterations (100)')\n",
    "cost100 = n_err[0::100]\n",
    "plt.plot(np.arange(0,len(cost100)),cost100[0:],'-r', label='Cost')\n",
    "plt.legend()\n",
    "plt.show()\n",
    "\n"
   ]
  },
  {
   "cell_type": "code",
   "execution_count": 81,
   "metadata": {},
   "outputs": [
    {
     "name": "stdout",
     "output_type": "stream",
     "text": [
      "--- Log-likelihood for every 100 iteration ---\n"
     ]
    },
    {
     "data": {
      "image/png": "[encoded data removed]",
      "text/plain": [
       "<Figure size 432x288 with 1 Axes>"
      ]
     },
     "metadata": {
      "needs_background": "light"
     },
     "output_type": "display_data"
    }
   ],
   "source": [
    "print(\"--- Log-likelihood for every 100 iteration ---\")\n",
    "plt.title('Log-likelihood for every 100 iteration')\n",
    "plt.ylabel('Log-likelihood')\n",
    "plt.xlabel('Number of iterations (100)')\n",
    "like100 = n_like[0::100]\n",
    "plt.plot(np.arange(0,len(like100)),like100[0:],'-r', label='Log-likelihood')\n",
    "plt.legend()\n",
    "plt.show()"
   ]
  },
  {
   "cell_type": "code",
   "execution_count": 82,
   "metadata": {},
   "outputs": [
    {
     "data": {
      "text/plain": [
       "array([[ 0.48568467],\n",
       "       [ 2.65727086],\n",
       "       [-8.31047879],\n",
       "       [ 3.83774129],\n",
       "       [ 0.21968976],\n",
       "       [ 0.23690415],\n",
       "       [ 0.04044512],\n",
       "       [-0.01135437],\n",
       "       [-0.21749805],\n",
       "       [ 0.01496745],\n",
       "       [-0.05778935],\n",
       "       [ 0.34206682],\n",
       "       [ 0.20645247],\n",
       "       [ 0.29114855],\n",
       "       [-0.09366322],\n",
       "       [ 0.10802924],\n",
       "       [ 0.11421869],\n",
       "       [ 0.20202169],\n",
       "       [ 0.06141505],\n",
       "       [-7.90565768],\n",
       "       [ 4.17933173]])"
      ]
     },
     "execution_count": 82,
     "metadata": {},
     "output_type": "execute_result"
    }
   ],
   "source": [
    "n_theta"
   ]
  },
  {
   "cell_type": "code",
   "execution_count": null,
   "metadata": {},
   "outputs": [],
   "source": []
  }
 ],
 "metadata": {
  "kernelspec": {
   "display_name": "Python 3",
   "language": "python",
   "name": "python3"
  },
  "language_info": {
   "codemirror_mode": {
    "name": "ipython",
    "version": 3
   },
   "file_extension": ".py",
   "mimetype": "text/x-python",
   "name": "python",
   "nbconvert_exporter": "python",
   "pygments_lexer": "ipython3",
   "version": "3.7.3"
  }
 },
 "nbformat": 4,
 "nbformat_minor": 2
}
