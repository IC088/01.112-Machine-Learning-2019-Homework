{
 "cells": [
  {
   "cell_type": "markdown",
   "metadata": {},
   "source": [
    "# 01.112 Machine Learning Homework Question 1"
   ]
  },
  {
   "cell_type": "code",
   "execution_count": 1,
   "metadata": {},
   "outputs": [],
   "source": [
    "import numpy as np\n",
    "import csv\n",
    "import matplotlib.pyplot as plt"
   ]
  },
  {
   "cell_type": "markdown",
   "metadata": {},
   "source": [
    "Perceptron algorithm\n",
    "1. Initialise weights theta(0) = 0 \n",
    "2. check if the condition sign(t)(theta . x(t)) <= 0?\n",
    "3. if true then update theta(k+1) = theta(k) + sign(t) x(t)\n",
    "\telse: continue\n",
    "4. repeat until end of file\n",
    "'''\n",
    "\n",
    "'''\n",
    "How to run this:\n",
    "1. have python 3.7++ installed to be safe\n",
    "2. make sure to have the data in the same directory as this since I didn't bother moving anything else or take into account \n",
    "if you are a windows user:\n",
    "\tif you have an IDE:\n",
    "\t\trun the code in your IDE\n",
    "\telse:\n",
    "\t\tgot to cmd and run \n",
    "\t\t\tpython perceptron_algo.py\n",
    "if you are a unix based user:\n",
    "\topen terminal:\n",
    "\t\trun python3 perceptron_algo.py\n",
    "\t\t       or\n",
    "\t\trun python perceptron_algo.py"
   ]
  },
  {
   "cell_type": "code",
   "execution_count": 2,
   "metadata": {},
   "outputs": [],
   "source": [
    "def perceptron_train(filename, epochs=100):\n",
    "\ttheta = 0\n",
    "\tpoints = []\n",
    "\tfor i in range(epochs):\n",
    "\t\twith open(filename) as f:\n",
    "\n",
    "\t\t\tcsv_reader = csv.reader(f, delimiter=',')\n",
    "\n",
    "\t\t\tfor row in csv_reader:\n",
    "\t\t\t\tx = np.array([row[0], row[1]] , dtype = 'float64')\n",
    "\t\t\t\tpoints.append(x)\n",
    "\t\t\t\t# check if sign(t)( theta . x(t)) <= 0\n",
    "\t\t\t\ty = np.asarray(row[2], dtype='float64')\n",
    "\t\t\t\tthetax = sum(theta * x)\n",
    "\t\t\t\tif y * thetax <= 0:\n",
    "\t\t\t\t\ttheta = theta + np.dot(y, x)\n",
    "\treturn theta , points"
   ]
  },
  {
   "cell_type": "code",
   "execution_count": 3,
   "metadata": {},
   "outputs": [],
   "source": [
    "def test_val(filename, theta):\n",
    "\tline = 0\n",
    "\ttotal = 0\n",
    "\twith open(filename) as f:\n",
    "\t\tcsv_reader = csv.reader(f, delimiter=',')\n",
    "\t\tfor row in csv_reader:\n",
    "\t\t\tx = np.array([row[0], row[1]] , dtype = 'float64')\n",
    "\t\t\t'''\n",
    "\t\t\tcheck if they are in the on the same side of the boundary line as the predicted value\n",
    "\t\t\t'''\n",
    "\t\t\tcheck = np.dot(theta, x)\n",
    "\t\t\tresult = np.array([check, row[2]], dtype = 'float64')\n",
    "\t\t\t\n",
    "\t\t\tif np.multiply(result[0],result[1]) > 0:\n",
    "\t\t\t\ttotal+=1\n",
    "\t\t\tline +=1\n",
    "\treturn total/line"
   ]
  },
  {
   "cell_type": "code",
   "execution_count": 4,
   "metadata": {},
   "outputs": [
    {
     "name": "stdout",
     "output_type": "stream",
     "text": [
      "Accuracy: 0.9660678642714571\n"
     ]
    }
   ],
   "source": [
    "theta_val, points = perceptron_train('train_1_5.csv',5)\n",
    "\n",
    "print('Accuracy: ' + str(test_val('test_1_5.csv', theta_val)))"
   ]
  },
  {
   "cell_type": "code",
   "execution_count": 5,
   "metadata": {},
   "outputs": [
    {
     "name": "stdout",
     "output_type": "stream",
     "text": [
      "Accuracy: 0.9670658682634731\n"
     ]
    }
   ],
   "source": [
    "theta_val, points = perceptron_train('train_1_5.csv',10)\n",
    "\n",
    "print('Accuracy: ' + str(test_val('test_1_5.csv', theta_val)))"
   ]
  },
  {
   "cell_type": "code",
   "execution_count": 6,
   "metadata": {},
   "outputs": [
    {
     "data": {
      "text/plain": [
       "'\\nThese are for plotting purposes\\n'"
      ]
     },
     "execution_count": 6,
     "metadata": {},
     "output_type": "execute_result"
    }
   ],
   "source": [
    "'''\n",
    "These are for plotting purposes\n",
    "'''\n",
    "# origin = [0], [0]\n",
    "\n",
    "\n",
    "# plt.quiver(*origin, theta_val[0],theta_val[1])\n",
    "\n",
    "# plt.plot(points, 'ro')\n",
    "# plt.show()\n"
   ]
  },
  {
   "cell_type": "code",
   "execution_count": null,
   "metadata": {},
   "outputs": [],
   "source": []
  }
 ],
 "metadata": {
  "kernelspec": {
   "display_name": "Python 3",
   "language": "python",
   "name": "python3"
  },
  "language_info": {
   "codemirror_mode": {
    "name": "ipython",
    "version": 3
   },
   "file_extension": ".py",
   "mimetype": "text/x-python",
   "name": "python",
   "nbconvert_exporter": "python",
   "pygments_lexer": "ipython3",
   "version": "3.7.3"
  }
 },
 "nbformat": 4,
 "nbformat_minor": 2
}
