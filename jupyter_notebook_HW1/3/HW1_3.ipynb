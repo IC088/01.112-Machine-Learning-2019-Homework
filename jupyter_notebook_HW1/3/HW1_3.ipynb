{
 "cells": [
  {
   "cell_type": "markdown",
   "metadata": {},
   "source": [
    "# ML HW1 Qn 3"
   ]
  },
  {
   "cell_type": "code",
   "execution_count": 2,
   "metadata": {},
   "outputs": [],
   "source": [
    "import numpy as np\n",
    "import pandas as pd\n",
    "from numpy.linalg import inv\n",
    "\n",
    "\n",
    "x = pd.read_csv('./hw1_ridge_x.dat',header=None, engine='python')\n",
    "y = pd.read_csv('./hw1_ridge_y.dat',header=None, engine='python')\n",
    "x_test = x.iloc[:10]\n",
    "x_train = x.iloc[10:]\n",
    "y_test = y.iloc[:10]\n",
    "y_train = y.iloc[10:]"
   ]
  },
  {
   "cell_type": "code",
   "execution_count": 3,
   "metadata": {},
   "outputs": [],
   "source": [
    "def ridgeregression(tX,tY,l):\n",
    "    n = len(tX)\n",
    "    I = np.identity(n)\n",
    "    nIlambda = n*l*I\n",
    "    xtransx = np.dot(tX,tX.transpose())\n",
    "    nil_total = nIlambda + xtransx\n",
    "    inversed = inv(nil_total)\n",
    "    multiplied = tX.transpose().dot(inversed)\n",
    "    result = np.dot(multiplied, tY)\n",
    "    return  result"
   ]
  },
  {
   "cell_type": "code",
   "execution_count": 4,
   "metadata": {},
   "outputs": [
    {
     "data": {
      "text/plain": [
       "array([[-0.57939825],\n",
       "       [ 1.15033028],\n",
       "       [ 0.04934122],\n",
       "       [-1.59867896]])"
      ]
     },
     "execution_count": 4,
     "metadata": {},
     "output_type": "execute_result"
    }
   ],
   "source": [
    "ridgeregression(x_train,y_train,0.15)"
   ]
  },
  {
   "cell_type": "code",
   "execution_count": 8,
   "metadata": {},
   "outputs": [
    {
     "data": {
      "image/png": "[encoded data removed]",
      "text/plain": [
       "<Figure size 432x288 with 1 Axes>"
      ]
     },
     "metadata": {
      "needs_background": "light"
     },
     "output_type": "display_data"
    }
   ],
   "source": [
    "import matplotlib.pyplot as plt\n",
    "tX = x_train\n",
    "vX = x_test\n",
    "tY = y_train\n",
    "vY = y_test\n",
    "tn  =  tX.shape[0]\n",
    "vn  =  vX.shape[0]\n",
    "tloss = [ ]\n",
    "vloss = [ ]\n",
    "index = -np.arange(0,5,0.1)\n",
    "for i  in  index:\n",
    "    w = ridgeregression(tX,tY,10**i)\n",
    "    tloss = tloss + [np.sum((np.dot(tX , w)- tY )**2 ) / tn / 2 ]\n",
    "    vloss = vloss + [np.sum((np.dot (vX , w)-vY )**2 ) / vn / 2 ]\n",
    "    \n",
    "training_loss = plt.plot(index,np.log(tloss),'r')\n",
    "testing_loss = plt.plot(index,np.log(vloss),'b')"
   ]
  },
  {
   "cell_type": "code",
   "execution_count": 7,
   "metadata": {},
   "outputs": [],
   "source": [
    "xvalues = testing_loss[0].get_xdata()\n",
    "yvalues = testing_loss[0].get_ydata()\n",
    "\n",
    "# val, index = find_nearest(crit,0)\n",
    "# xvalues[index], yvalues[index]\n",
    "\n",
    "### Minimum values lies -2<lambda<-1.5\n",
    "\n",
    "### lambda = 10**-1.8\n",
    "\n",
    "t = np.where( yvalues == min(yvalues)) #minimum lambda value\n"
   ]
  }
 ],
 "metadata": {
  "kernelspec": {
   "display_name": "Python 3",
   "language": "python",
   "name": "python3"
  },
  "language_info": {
   "codemirror_mode": {
    "name": "ipython",
    "version": 3
   },
   "file_extension": ".py",
   "mimetype": "text/x-python",
   "name": "python",
   "nbconvert_exporter": "python",
   "pygments_lexer": "ipython3",
   "version": "3.7.3"
  }
 },
 "nbformat": 4,
 "nbformat_minor": 2
}
